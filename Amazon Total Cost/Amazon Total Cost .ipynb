{
 "cells": [
  {
   "cell_type": "code",
   "execution_count": 1,
   "metadata": {
    "scrolled": false
   },
   "outputs": [
    {
     "data": {
      "text/html": [
       "<div>\n",
       "<style scoped>\n",
       "    .dataframe tbody tr th:only-of-type {\n",
       "        vertical-align: middle;\n",
       "    }\n",
       "\n",
       "    .dataframe tbody tr th {\n",
       "        vertical-align: top;\n",
       "    }\n",
       "\n",
       "    .dataframe thead th {\n",
       "        text-align: right;\n",
       "    }\n",
       "</style>\n",
       "<table border=\"1\" class=\"dataframe\">\n",
       "  <thead>\n",
       "    <tr style=\"text-align: right;\">\n",
       "      <th></th>\n",
       "      <th>order id</th>\n",
       "      <th>items</th>\n",
       "      <th>to</th>\n",
       "      <th>date</th>\n",
       "      <th>total</th>\n",
       "      <th>postage</th>\n",
       "      <th>gift</th>\n",
       "      <th>VAT</th>\n",
       "      <th>GST</th>\n",
       "      <th>PST</th>\n",
       "      <th>refund</th>\n",
       "      <th>payments</th>\n",
       "    </tr>\n",
       "  </thead>\n",
       "  <tbody>\n",
       "    <tr>\n",
       "      <th>0</th>\n",
       "      <td>702-5106998-1399415</td>\n",
       "      <td>Rankie HDMI to DVI Cable, CL3 Rated High Speed...</td>\n",
       "      <td>Cliff Chen</td>\n",
       "      <td>5/11/2020</td>\n",
       "      <td>CDN$ 17.99</td>\n",
       "      <td>CDN$ 0.00</td>\n",
       "      <td>0</td>\n",
       "      <td>CDN$ 17.99</td>\n",
       "      <td>0</td>\n",
       "      <td>CDN$ 0.00</td>\n",
       "      <td>0</td>\n",
       "      <td>Visa ending in 4882: May 13, 2020: CDN$ 17.99;</td>\n",
       "    </tr>\n",
       "    <tr>\n",
       "      <th>1</th>\n",
       "      <td>702-3703528-1706610</td>\n",
       "      <td>iPad Mini 1/2/3 Case - 360 Degree Rotating Sta...</td>\n",
       "      <td>Cliff Chen</td>\n",
       "      <td>5/4/2020</td>\n",
       "      <td>CDN$ 46.98</td>\n",
       "      <td>CDN$ 7.85</td>\n",
       "      <td>0</td>\n",
       "      <td>CDN$ 46.98</td>\n",
       "      <td>0</td>\n",
       "      <td>CDN$ 0.00</td>\n",
       "      <td>0</td>\n",
       "      <td>Visa ending in 4882: May 6, 2020: CDN$ 46.98;</td>\n",
       "    </tr>\n",
       "    <tr>\n",
       "      <th>2</th>\n",
       "      <td>D01-4724051-2701028</td>\n",
       "      <td>Audible Gold 1-Month Free-Trial Membership ASIN;</td>\n",
       "      <td>0</td>\n",
       "      <td>3/16/2020</td>\n",
       "      <td>CDN$ 0.00</td>\n",
       "      <td>0</td>\n",
       "      <td>0</td>\n",
       "      <td>0</td>\n",
       "      <td>0</td>\n",
       "      <td>0</td>\n",
       "      <td>0</td>\n",
       "      <td>2020-03-16: CDN$ 0.00;</td>\n",
       "    </tr>\n",
       "    <tr>\n",
       "      <th>3</th>\n",
       "      <td>701-0134839-6181841</td>\n",
       "      <td>Olanly Original Durable Striped Door Mat, Indo...</td>\n",
       "      <td>Cliff Chen</td>\n",
       "      <td>9/1/2020</td>\n",
       "      <td>CDN$ 29.99</td>\n",
       "      <td>CDN$ 0.00</td>\n",
       "      <td>0</td>\n",
       "      <td>CDN$ 29.99</td>\n",
       "      <td>0</td>\n",
       "      <td>CDN$ 0.00</td>\n",
       "      <td>0</td>\n",
       "      <td>Visa ending in 4705: September 2, 2020: CDN$ 2...</td>\n",
       "    </tr>\n",
       "    <tr>\n",
       "      <th>4</th>\n",
       "      <td>701-7687153-7251463</td>\n",
       "      <td>Diane Ionic DBC043 Anti-Static Rat Tail Comb, ...</td>\n",
       "      <td>Cliff Chen</td>\n",
       "      <td>9/1/2020</td>\n",
       "      <td>CDN$ 63.28</td>\n",
       "      <td>CDN$ 0.00</td>\n",
       "      <td>0</td>\n",
       "      <td>CDN$ 59.74</td>\n",
       "      <td>0</td>\n",
       "      <td>CDN$ 1.75</td>\n",
       "      <td>CDN$ 31.74</td>\n",
       "      <td>Visa ending in 4705: September 4, 2020: CDN$ 1...</td>\n",
       "    </tr>\n",
       "  </tbody>\n",
       "</table>\n",
       "</div>"
      ],
      "text/plain": [
       "              order id                                              items  \\\n",
       "0  702-5106998-1399415  Rankie HDMI to DVI Cable, CL3 Rated High Speed...   \n",
       "1  702-3703528-1706610  iPad Mini 1/2/3 Case - 360 Degree Rotating Sta...   \n",
       "2  D01-4724051-2701028  Audible Gold 1-Month Free-Trial Membership ASIN;    \n",
       "3  701-0134839-6181841  Olanly Original Durable Striped Door Mat, Indo...   \n",
       "4  701-7687153-7251463  Diane Ionic DBC043 Anti-Static Rat Tail Comb, ...   \n",
       "\n",
       "           to       date       total    postage  gift         VAT  GST  \\\n",
       "0  Cliff Chen  5/11/2020  CDN$ 17.99  CDN$ 0.00     0  CDN$ 17.99    0   \n",
       "1  Cliff Chen   5/4/2020  CDN$ 46.98  CDN$ 7.85     0  CDN$ 46.98    0   \n",
       "2           0  3/16/2020   CDN$ 0.00          0     0           0    0   \n",
       "3  Cliff Chen   9/1/2020  CDN$ 29.99  CDN$ 0.00     0  CDN$ 29.99    0   \n",
       "4  Cliff Chen   9/1/2020  CDN$ 63.28  CDN$ 0.00     0  CDN$ 59.74    0   \n",
       "\n",
       "         PST      refund                                           payments  \n",
       "0  CDN$ 0.00           0    Visa ending in 4882: May 13, 2020: CDN$ 17.99;   \n",
       "1  CDN$ 0.00           0     Visa ending in 4882: May 6, 2020: CDN$ 46.98;   \n",
       "2          0           0                            2020-03-16: CDN$ 0.00;   \n",
       "3  CDN$ 0.00           0  Visa ending in 4705: September 2, 2020: CDN$ 2...  \n",
       "4  CDN$ 1.75  CDN$ 31.74  Visa ending in 4705: September 4, 2020: CDN$ 1...  "
      ]
     },
     "execution_count": 1,
     "metadata": {},
     "output_type": "execute_result"
    }
   ],
   "source": [
    "import pandas as pd \n",
    "\n",
    "df = pd.read_csv(r'C:\\Users\\Cliff Chen\\Downloads\\amazon_order_history_2020.csv')\n",
    "df.head()\n",
    "\n"
   ]
  },
  {
   "cell_type": "code",
   "execution_count": 2,
   "metadata": {},
   "outputs": [
    {
     "data": {
      "text/html": [
       "<div>\n",
       "<style scoped>\n",
       "    .dataframe tbody tr th:only-of-type {\n",
       "        vertical-align: middle;\n",
       "    }\n",
       "\n",
       "    .dataframe tbody tr th {\n",
       "        vertical-align: top;\n",
       "    }\n",
       "\n",
       "    .dataframe thead th {\n",
       "        text-align: right;\n",
       "    }\n",
       "</style>\n",
       "<table border=\"1\" class=\"dataframe\">\n",
       "  <thead>\n",
       "    <tr style=\"text-align: right;\">\n",
       "      <th></th>\n",
       "      <th>order id</th>\n",
       "      <th>items</th>\n",
       "      <th>to</th>\n",
       "      <th>date</th>\n",
       "      <th>total</th>\n",
       "      <th>postage</th>\n",
       "      <th>gift</th>\n",
       "      <th>VAT</th>\n",
       "      <th>GST</th>\n",
       "      <th>PST</th>\n",
       "      <th>refund</th>\n",
       "      <th>payments</th>\n",
       "    </tr>\n",
       "  </thead>\n",
       "  <tbody>\n",
       "    <tr>\n",
       "      <th>0</th>\n",
       "      <td>702-5106998-1399415</td>\n",
       "      <td>Rankie HDMI to DVI Cable, CL3 Rated High Speed...</td>\n",
       "      <td>Cliff Chen</td>\n",
       "      <td>5/11/2020</td>\n",
       "      <td>17.99</td>\n",
       "      <td>CDN$ 0.00</td>\n",
       "      <td>0</td>\n",
       "      <td>CDN$ 17.99</td>\n",
       "      <td>0</td>\n",
       "      <td>CDN$ 0.00</td>\n",
       "      <td>0</td>\n",
       "      <td>Visa ending in 4882: May 13, 2020: CDN$ 17.99;</td>\n",
       "    </tr>\n",
       "    <tr>\n",
       "      <th>1</th>\n",
       "      <td>702-3703528-1706610</td>\n",
       "      <td>iPad Mini 1/2/3 Case - 360 Degree Rotating Sta...</td>\n",
       "      <td>Cliff Chen</td>\n",
       "      <td>5/4/2020</td>\n",
       "      <td>46.98</td>\n",
       "      <td>CDN$ 7.85</td>\n",
       "      <td>0</td>\n",
       "      <td>CDN$ 46.98</td>\n",
       "      <td>0</td>\n",
       "      <td>CDN$ 0.00</td>\n",
       "      <td>0</td>\n",
       "      <td>Visa ending in 4882: May 6, 2020: CDN$ 46.98;</td>\n",
       "    </tr>\n",
       "    <tr>\n",
       "      <th>2</th>\n",
       "      <td>D01-4724051-2701028</td>\n",
       "      <td>Audible Gold 1-Month Free-Trial Membership ASIN;</td>\n",
       "      <td>0</td>\n",
       "      <td>3/16/2020</td>\n",
       "      <td>0.00</td>\n",
       "      <td>0</td>\n",
       "      <td>0</td>\n",
       "      <td>0</td>\n",
       "      <td>0</td>\n",
       "      <td>0</td>\n",
       "      <td>0</td>\n",
       "      <td>2020-03-16: CDN$ 0.00;</td>\n",
       "    </tr>\n",
       "    <tr>\n",
       "      <th>3</th>\n",
       "      <td>701-0134839-6181841</td>\n",
       "      <td>Olanly Original Durable Striped Door Mat, Indo...</td>\n",
       "      <td>Cliff Chen</td>\n",
       "      <td>9/1/2020</td>\n",
       "      <td>29.99</td>\n",
       "      <td>CDN$ 0.00</td>\n",
       "      <td>0</td>\n",
       "      <td>CDN$ 29.99</td>\n",
       "      <td>0</td>\n",
       "      <td>CDN$ 0.00</td>\n",
       "      <td>0</td>\n",
       "      <td>Visa ending in 4705: September 2, 2020: CDN$ 2...</td>\n",
       "    </tr>\n",
       "    <tr>\n",
       "      <th>4</th>\n",
       "      <td>701-7687153-7251463</td>\n",
       "      <td>Diane Ionic DBC043 Anti-Static Rat Tail Comb, ...</td>\n",
       "      <td>Cliff Chen</td>\n",
       "      <td>9/1/2020</td>\n",
       "      <td>63.28</td>\n",
       "      <td>CDN$ 0.00</td>\n",
       "      <td>0</td>\n",
       "      <td>CDN$ 59.74</td>\n",
       "      <td>0</td>\n",
       "      <td>CDN$ 1.75</td>\n",
       "      <td>CDN$ 31.74</td>\n",
       "      <td>Visa ending in 4705: September 4, 2020: CDN$ 1...</td>\n",
       "    </tr>\n",
       "  </tbody>\n",
       "</table>\n",
       "</div>"
      ],
      "text/plain": [
       "              order id                                              items  \\\n",
       "0  702-5106998-1399415  Rankie HDMI to DVI Cable, CL3 Rated High Speed...   \n",
       "1  702-3703528-1706610  iPad Mini 1/2/3 Case - 360 Degree Rotating Sta...   \n",
       "2  D01-4724051-2701028  Audible Gold 1-Month Free-Trial Membership ASIN;    \n",
       "3  701-0134839-6181841  Olanly Original Durable Striped Door Mat, Indo...   \n",
       "4  701-7687153-7251463  Diane Ionic DBC043 Anti-Static Rat Tail Comb, ...   \n",
       "\n",
       "           to       date  total    postage  gift         VAT  GST        PST  \\\n",
       "0  Cliff Chen  5/11/2020  17.99  CDN$ 0.00     0  CDN$ 17.99    0  CDN$ 0.00   \n",
       "1  Cliff Chen   5/4/2020  46.98  CDN$ 7.85     0  CDN$ 46.98    0  CDN$ 0.00   \n",
       "2           0  3/16/2020   0.00          0     0           0    0          0   \n",
       "3  Cliff Chen   9/1/2020  29.99  CDN$ 0.00     0  CDN$ 29.99    0  CDN$ 0.00   \n",
       "4  Cliff Chen   9/1/2020  63.28  CDN$ 0.00     0  CDN$ 59.74    0  CDN$ 1.75   \n",
       "\n",
       "       refund                                           payments  \n",
       "0           0    Visa ending in 4882: May 13, 2020: CDN$ 17.99;   \n",
       "1           0     Visa ending in 4882: May 6, 2020: CDN$ 46.98;   \n",
       "2           0                            2020-03-16: CDN$ 0.00;   \n",
       "3           0  Visa ending in 4705: September 2, 2020: CDN$ 2...  \n",
       "4  CDN$ 31.74  Visa ending in 4705: September 4, 2020: CDN$ 1...  "
      ]
     },
     "execution_count": 2,
     "metadata": {},
     "output_type": "execute_result"
    }
   ],
   "source": [
    "df['total'] = df['total'].str.replace('CDN', '')\n",
    "df['total'] = df['total'].str.replace('$', '').astype(float)\n",
    "df.head()\n",
    "\n"
   ]
  },
  {
   "cell_type": "code",
   "execution_count": 3,
   "metadata": {},
   "outputs": [
    {
     "data": {
      "text/plain": [
       "dtype('float64')"
      ]
     },
     "execution_count": 3,
     "metadata": {},
     "output_type": "execute_result"
    }
   ],
   "source": [
    "df[\"total\"].dtype"
   ]
  },
  {
   "cell_type": "code",
   "execution_count": 4,
   "metadata": {},
   "outputs": [],
   "source": [
    "tot = df[\"total\"].sum()"
   ]
  },
  {
   "cell_type": "code",
   "execution_count": 5,
   "metadata": {},
   "outputs": [
    {
     "name": "stdout",
     "output_type": "stream",
     "text": [
      "Total I have Spent in 2020: $1316.18\n"
     ]
    }
   ],
   "source": [
    "print(f\"Total I have Spent in 2020: $\" + \"%.2f\" %tot)"
   ]
  },
  {
   "cell_type": "code",
   "execution_count": 6,
   "metadata": {},
   "outputs": [
    {
     "name": "stdout",
     "output_type": "stream",
     "text": [
      "Average I spend per order: $39.88\n"
     ]
    }
   ],
   "source": [
    "avg = df[\"total\"].mean()\n",
    "print(f\"Average I spend per order: $\" + \"%.2f\" %avg)"
   ]
  },
  {
   "cell_type": "code",
   "execution_count": 7,
   "metadata": {},
   "outputs": [
    {
     "name": "stdout",
     "output_type": "stream",
     "text": [
      "Median of orders: $30.04\n"
     ]
    }
   ],
   "source": [
    "med = df[\"total\"].median()\n",
    "print(f\"Median of orders: $\" + \"%.2f\" %med)"
   ]
  },
  {
   "cell_type": "code",
   "execution_count": 8,
   "metadata": {},
   "outputs": [
    {
     "data": {
      "text/html": [
       "<div>\n",
       "<style scoped>\n",
       "    .dataframe tbody tr th:only-of-type {\n",
       "        vertical-align: middle;\n",
       "    }\n",
       "\n",
       "    .dataframe tbody tr th {\n",
       "        vertical-align: top;\n",
       "    }\n",
       "\n",
       "    .dataframe thead th {\n",
       "        text-align: right;\n",
       "    }\n",
       "</style>\n",
       "<table border=\"1\" class=\"dataframe\">\n",
       "  <thead>\n",
       "    <tr style=\"text-align: right;\">\n",
       "      <th></th>\n",
       "      <th>order id</th>\n",
       "      <th>items</th>\n",
       "      <th>to</th>\n",
       "      <th>date</th>\n",
       "      <th>total</th>\n",
       "      <th>postage</th>\n",
       "      <th>gift</th>\n",
       "      <th>VAT</th>\n",
       "      <th>GST</th>\n",
       "      <th>PST</th>\n",
       "      <th>refund</th>\n",
       "      <th>payments</th>\n",
       "    </tr>\n",
       "  </thead>\n",
       "  <tbody>\n",
       "    <tr>\n",
       "      <th>0</th>\n",
       "      <td>702-5106998-1399415</td>\n",
       "      <td>Rankie HDMI to DVI Cable, CL3 Rated High Speed...</td>\n",
       "      <td>Cliff Chen</td>\n",
       "      <td>2020-05-11</td>\n",
       "      <td>17.99</td>\n",
       "      <td>CDN$ 0.00</td>\n",
       "      <td>0</td>\n",
       "      <td>CDN$ 17.99</td>\n",
       "      <td>0</td>\n",
       "      <td>CDN$ 0.00</td>\n",
       "      <td>0</td>\n",
       "      <td>Visa ending in 4882: May 13, 2020: CDN$ 17.99;</td>\n",
       "    </tr>\n",
       "    <tr>\n",
       "      <th>1</th>\n",
       "      <td>702-3703528-1706610</td>\n",
       "      <td>iPad Mini 1/2/3 Case - 360 Degree Rotating Sta...</td>\n",
       "      <td>Cliff Chen</td>\n",
       "      <td>2020-05-04</td>\n",
       "      <td>46.98</td>\n",
       "      <td>CDN$ 7.85</td>\n",
       "      <td>0</td>\n",
       "      <td>CDN$ 46.98</td>\n",
       "      <td>0</td>\n",
       "      <td>CDN$ 0.00</td>\n",
       "      <td>0</td>\n",
       "      <td>Visa ending in 4882: May 6, 2020: CDN$ 46.98;</td>\n",
       "    </tr>\n",
       "    <tr>\n",
       "      <th>2</th>\n",
       "      <td>D01-4724051-2701028</td>\n",
       "      <td>Audible Gold 1-Month Free-Trial Membership ASIN;</td>\n",
       "      <td>0</td>\n",
       "      <td>2020-03-16</td>\n",
       "      <td>0.00</td>\n",
       "      <td>0</td>\n",
       "      <td>0</td>\n",
       "      <td>0</td>\n",
       "      <td>0</td>\n",
       "      <td>0</td>\n",
       "      <td>0</td>\n",
       "      <td>2020-03-16: CDN$ 0.00;</td>\n",
       "    </tr>\n",
       "    <tr>\n",
       "      <th>3</th>\n",
       "      <td>701-0134839-6181841</td>\n",
       "      <td>Olanly Original Durable Striped Door Mat, Indo...</td>\n",
       "      <td>Cliff Chen</td>\n",
       "      <td>2020-09-01</td>\n",
       "      <td>29.99</td>\n",
       "      <td>CDN$ 0.00</td>\n",
       "      <td>0</td>\n",
       "      <td>CDN$ 29.99</td>\n",
       "      <td>0</td>\n",
       "      <td>CDN$ 0.00</td>\n",
       "      <td>0</td>\n",
       "      <td>Visa ending in 4705: September 2, 2020: CDN$ 2...</td>\n",
       "    </tr>\n",
       "    <tr>\n",
       "      <th>4</th>\n",
       "      <td>701-7687153-7251463</td>\n",
       "      <td>Diane Ionic DBC043 Anti-Static Rat Tail Comb, ...</td>\n",
       "      <td>Cliff Chen</td>\n",
       "      <td>2020-09-01</td>\n",
       "      <td>63.28</td>\n",
       "      <td>CDN$ 0.00</td>\n",
       "      <td>0</td>\n",
       "      <td>CDN$ 59.74</td>\n",
       "      <td>0</td>\n",
       "      <td>CDN$ 1.75</td>\n",
       "      <td>CDN$ 31.74</td>\n",
       "      <td>Visa ending in 4705: September 4, 2020: CDN$ 1...</td>\n",
       "    </tr>\n",
       "  </tbody>\n",
       "</table>\n",
       "</div>"
      ],
      "text/plain": [
       "              order id                                              items  \\\n",
       "0  702-5106998-1399415  Rankie HDMI to DVI Cable, CL3 Rated High Speed...   \n",
       "1  702-3703528-1706610  iPad Mini 1/2/3 Case - 360 Degree Rotating Sta...   \n",
       "2  D01-4724051-2701028  Audible Gold 1-Month Free-Trial Membership ASIN;    \n",
       "3  701-0134839-6181841  Olanly Original Durable Striped Door Mat, Indo...   \n",
       "4  701-7687153-7251463  Diane Ionic DBC043 Anti-Static Rat Tail Comb, ...   \n",
       "\n",
       "           to       date  total    postage  gift         VAT  GST        PST  \\\n",
       "0  Cliff Chen 2020-05-11  17.99  CDN$ 0.00     0  CDN$ 17.99    0  CDN$ 0.00   \n",
       "1  Cliff Chen 2020-05-04  46.98  CDN$ 7.85     0  CDN$ 46.98    0  CDN$ 0.00   \n",
       "2           0 2020-03-16   0.00          0     0           0    0          0   \n",
       "3  Cliff Chen 2020-09-01  29.99  CDN$ 0.00     0  CDN$ 29.99    0  CDN$ 0.00   \n",
       "4  Cliff Chen 2020-09-01  63.28  CDN$ 0.00     0  CDN$ 59.74    0  CDN$ 1.75   \n",
       "\n",
       "       refund                                           payments  \n",
       "0           0    Visa ending in 4882: May 13, 2020: CDN$ 17.99;   \n",
       "1           0     Visa ending in 4882: May 6, 2020: CDN$ 46.98;   \n",
       "2           0                            2020-03-16: CDN$ 0.00;   \n",
       "3           0  Visa ending in 4705: September 2, 2020: CDN$ 2...  \n",
       "4  CDN$ 31.74  Visa ending in 4705: September 4, 2020: CDN$ 1...  "
      ]
     },
     "execution_count": 8,
     "metadata": {},
     "output_type": "execute_result"
    }
   ],
   "source": [
    "df[\"date\"] = pd.to_datetime(df[\"date\"])\n",
    "df.head()"
   ]
  },
  {
   "cell_type": "code",
   "execution_count": 9,
   "metadata": {},
   "outputs": [
    {
     "data": {
      "text/plain": [
       "<matplotlib.axes._subplots.AxesSubplot at 0x21664030190>"
      ]
     },
     "execution_count": 9,
     "metadata": {},
     "output_type": "execute_result"
    },
    {
     "data": {
      "image/png": "[encoded data removed]",
      "text/plain": [
       "<Figure size 1440x720 with 1 Axes>"
      ]
     },
     "metadata": {
      "needs_background": "light"
     },
     "output_type": "display_data"
    }
   ],
   "source": [
    "%matplotlib inline \n",
    "df.plot.bar(x=\"date\", y=\"total\", rot = 90, figsize = (20,10))"
   ]
  },
  {
   "cell_type": "code",
   "execution_count": 10,
   "metadata": {},
   "outputs": [],
   "source": [
    "day_orders = df.groupby(\"date\").sum()[\"total\"]"
   ]
  },
  {
   "cell_type": "code",
   "execution_count": 11,
   "metadata": {},
   "outputs": [
    {
     "data": {
      "text/plain": [
       "<matplotlib.axes._subplots.AxesSubplot at 0x216647cbd30>"
      ]
     },
     "execution_count": 11,
     "metadata": {},
     "output_type": "execute_result"
    },
    {
     "data": {
      "image/png": "[encoded data removed]",
      "text/plain": [
       "<Figure size 1440x720 with 1 Axes>"
      ]
     },
     "metadata": {
      "needs_background": "light"
     },
     "output_type": "display_data"
    }
   ],
   "source": [
    "day_orders.plot.bar(figsize = (20,10))"
   ]
  },
  {
   "cell_type": "code",
   "execution_count": 13,
   "metadata": {},
   "outputs": [
    {
     "data": {
      "text/plain": [
       "<matplotlib.axes._subplots.AxesSubplot at 0x2166472cd30>"
      ]
     },
     "execution_count": 13,
     "metadata": {},
     "output_type": "execute_result"
    },
    {
     "data": {
      "image/png": "[encoded data removed]",
      "text/plain": [
       "<Figure size 1440x720 with 1 Axes>"
      ]
     },
     "metadata": {
      "needs_background": "light"
     },
     "output_type": "display_data"
    }
   ],
   "source": [
    "month_orders = df.groupby(df['date'].dt.strftime('%B'))['total'].sum().sort_values()\n",
    "month_orders.plot.bar(figsize = (20,10))"
   ]
  },
  {
   "cell_type": "code",
   "execution_count": null,
   "metadata": {},
   "outputs": [],
   "source": []
  }
 ],
 "metadata": {
  "kernelspec": {
   "display_name": "Python 3",
   "language": "python",
   "name": "python3"
  },
  "language_info": {
   "codemirror_mode": {
    "name": "ipython",
    "version": 3
   },
   "file_extension": ".py",
   "mimetype": "text/x-python",
   "name": "python",
   "nbconvert_exporter": "python",
   "pygments_lexer": "ipython3",
   "version": "3.8.3"
  }
 },
 "nbformat": 4,
 "nbformat_minor": 4
}
